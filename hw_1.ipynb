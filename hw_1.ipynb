{
 "cells": [
  {
   "cell_type": "markdown",
   "id": "fba8e147",
   "metadata": {},
   "source": [
    "## Задание 1:\n",
    "Оформляйте ноутбук, используя эти советы:\n",
    "\n",
    "Номер задачи - заголовок 2\n",
    "\n",
    "Номер подзадачи - заголовок 3\n",
    "\n",
    "Предоставленные наборы данных оформляйте, как код"
   ]
  },
  {
   "cell_type": "markdown",
   "id": "fe59cce7",
   "metadata": {},
   "source": [
    "## Задание 2:\n",
    "\n",
    "На складе лежат разные фрукты в разном количестве.\n",
    "Нужно написать функцию, которая на вход принимает любое количество названий фруктов и их количество, а возвращает общее\n",
    "количество фруктов на складе."
   ]
  },
  {
   "cell_type": "code",
   "execution_count": 1,
   "id": "3b0899c2",
   "metadata": {},
   "outputs": [
    {
     "data": {
      "text/plain": [
       "27"
      ]
     },
     "execution_count": 1,
     "metadata": {},
     "output_type": "execute_result"
    }
   ],
   "source": [
    "def total_fruits(**kwargs):\n",
    "    fruits = 0\n",
    "    for key, value in kwargs.items():\n",
    "        fruits += value\n",
    "    return fruits\n",
    "\n",
    "total_fruits(banana = 5, mango = 7, apple = 8, avocado = 5, pear = 2)"
   ]
  },
  {
   "cell_type": "markdown",
   "id": "bb84789e",
   "metadata": {},
   "source": [
    "## Задача 3:\n",
    "Дан список с затратами на рекламу. Но в данных есть ошибки, некоторые затраты имеют отрицательную величину. Удалите такие значения из списка и посчитайте суммарные затраты\n",
    "[100, 125, -90, 345, 655, -1, 0, 200]\n",
    "Используйте list comprehensions"
   ]
  },
  {
   "cell_type": "code",
   "execution_count": 12,
   "id": "b4372c73",
   "metadata": {},
   "outputs": [
    {
     "data": {
      "text/plain": [
       "[100, 125, 345, 655, 0, 200]"
      ]
     },
     "execution_count": 12,
     "metadata": {},
     "output_type": "execute_result"
    }
   ],
   "source": [
    "advertising_costs = [100, 125, -90, 345, 655, -1, 0, 200]\n",
    "real_costs = [i for i in advertising_costs if i >= 0]\n",
    "real_costs"
   ]
  },
  {
   "cell_type": "code",
   "execution_count": 13,
   "id": "9aed8beb",
   "metadata": {},
   "outputs": [
    {
     "data": {
      "text/plain": [
       "1425"
      ]
     },
     "execution_count": 13,
     "metadata": {},
     "output_type": "execute_result"
    }
   ],
   "source": [
    "sum(real_costs)"
   ]
  },
  {
   "cell_type": "markdown",
   "id": "2b44e9e9",
   "metadata": {},
   "source": [
    "## Задача 4:\n",
    "Даны два списка.\n",
    "\n",
    "Дата покупки:"
   ]
  },
  {
   "cell_type": "code",
   "execution_count": 3,
   "id": "a7a745c3",
   "metadata": {},
   "outputs": [],
   "source": [
    "date = ['2021-09-14', '2021-12-15', '2021-09-08', '2021-12-05', '2021-10-09', '2021-09-30', '2021-12-22', '2021-11-29', \n",
    "        '2021-12-24', '2021-11-26', '2021-10-27', '2021-12-18', '2021-11-09', '2021-11-23', '2021-09-27', '2021-10-02', \n",
    "        '2021-12-27', '2021-09-20', '2021-12-13', '2021-11-01', '2021-11-09', '2021-12-06', '2021-12-08', '2021-10-09', \n",
    "        '2021-10-31', '2021-09-30', '2021-11-09', '2021-12-13', '2021-10-26', '2021-12-09']"
   ]
  },
  {
   "cell_type": "markdown",
   "id": "bcb4e66a",
   "metadata": {},
   "source": [
    "Суммы покупок по датам:"
   ]
  },
  {
   "cell_type": "code",
   "execution_count": 4,
   "id": "ff73a51a",
   "metadata": {},
   "outputs": [],
   "source": [
    "cash = [1270, 8413, 9028, 3703, 5739, 4095, 295, 4944, 5723, 3701, 4471, 651, 7037, 4274, 6275, 4988, 6930, 2971, 6592, \n",
    "        2004, 2822, 519, 3406, 2732, 5015, 2008, 316, 6333, 5700, 2887]"
   ]
  },
  {
   "cell_type": "markdown",
   "id": "d4d4e57e",
   "metadata": {},
   "source": [
    "### 4.1 Найдите, какая выручка у компании в ноябре\n",
    "Используйте list comprehensions"
   ]
  },
  {
   "cell_type": "code",
   "execution_count": 5,
   "id": "d25a4a67",
   "metadata": {},
   "outputs": [],
   "source": [
    "def get_shop(keys: list, values: list) -> dict:\n",
    "    return {keys[i]: values[i] for i in range(len(keys)) if keys[i] > '2021-10-31' and keys[i] < '2021-12-01'}"
   ]
  },
  {
   "cell_type": "code",
   "execution_count": 6,
   "id": "fb36553f",
   "metadata": {},
   "outputs": [
    {
     "name": "stdout",
     "output_type": "stream",
     "text": [
      "Продажи в ноябре: {'2021-11-29': 4944, '2021-11-26': 3701, '2021-11-09': 316, '2021-11-23': 4274, '2021-11-01': 2004}\n"
     ]
    }
   ],
   "source": [
    "shop_nov = get_shop(date, cash)\n",
    "print(f'Продажи в ноябре: {shop_nov}')"
   ]
  },
  {
   "cell_type": "code",
   "execution_count": 7,
   "id": "37b21057",
   "metadata": {},
   "outputs": [
    {
     "name": "stdout",
     "output_type": "stream",
     "text": [
      "Выручка компании в ноябре составила 15239\n"
     ]
    }
   ],
   "source": [
    "print(f'Выручка компании в ноябре составила {sum(shop_nov.values())}')"
   ]
  },
  {
   "cell_type": "markdown",
   "id": "6704c16a",
   "metadata": {},
   "source": [
    "### 4.2 Найдите выручку компании в зависимости от месяца\n",
    "Для этого напишите функцию, которая на вход принимает список с датами и список с выручкой, а на выходе словарь, где ключи - это месяцы, а значения - это выручка.\n",
    "Используйте аннотирование типов."
   ]
  },
  {
   "cell_type": "code",
   "execution_count": 8,
   "id": "e362bf88",
   "metadata": {},
   "outputs": [
    {
     "data": {
      "text/plain": [
       "{'2021-09-14': 1270,\n",
       " '2021-12-15': 8413,\n",
       " '2021-09-08': 9028,\n",
       " '2021-12-05': 3703,\n",
       " '2021-10-09': 2732,\n",
       " '2021-09-30': 2008,\n",
       " '2021-12-22': 295,\n",
       " '2021-11-29': 4944,\n",
       " '2021-12-24': 5723,\n",
       " '2021-11-26': 3701,\n",
       " '2021-10-27': 4471,\n",
       " '2021-12-18': 651,\n",
       " '2021-11-09': 316,\n",
       " '2021-11-23': 4274,\n",
       " '2021-09-27': 6275,\n",
       " '2021-10-02': 4988,\n",
       " '2021-12-27': 6930,\n",
       " '2021-09-20': 2971,\n",
       " '2021-12-13': 6333,\n",
       " '2021-11-01': 2004,\n",
       " '2021-12-06': 519,\n",
       " '2021-12-08': 3406,\n",
       " '2021-10-31': 5015,\n",
       " '2021-10-26': 5700,\n",
       " '2021-12-09': 2887}"
      ]
     },
     "execution_count": 8,
     "metadata": {},
     "output_type": "execute_result"
    }
   ],
   "source": [
    "def get_dict(keys: list, values: list) -> dict:\n",
    "    res = {}\n",
    "    for i in range(len(keys)):\n",
    "        res.update({keys[i]: values[i]})\n",
    "    return res\n",
    "\n",
    "date_cash = get_dict(date, cash)\n",
    "date_cash"
   ]
  },
  {
   "cell_type": "code",
   "execution_count": 9,
   "id": "83770f5e",
   "metadata": {},
   "outputs": [],
   "source": [
    "def get_result(data: dict, period: str) -> int:\n",
    "    \n",
    "    if len(period) == 1:\n",
    "        start_period = '2021-0' + period + '-01'\n",
    "        end_period = '2021-0' + period + '-31'\n",
    "    else:\n",
    "        start_period = '2021-' + period + '-01'\n",
    "        end_period = '2021-' + period + '-31'\n",
    "    \n",
    "    res = []\n",
    "    for k, v in data.items():\n",
    "        if (k >= start_period) and (k <= end_period):\n",
    "            res.append(v)\n",
    "                    \n",
    "    return f'Выручка компании за {period}-й месяц составила {sum(res)}'"
   ]
  },
  {
   "cell_type": "code",
   "execution_count": 10,
   "id": "6b6a42f7",
   "metadata": {},
   "outputs": [
    {
     "name": "stdout",
     "output_type": "stream",
     "text": [
      "Введите номер месяца 12\n"
     ]
    }
   ],
   "source": [
    "month = input('Введите номер месяца ')"
   ]
  },
  {
   "cell_type": "code",
   "execution_count": 11,
   "id": "4faa2d3e",
   "metadata": {},
   "outputs": [
    {
     "data": {
      "text/plain": [
       "'Выручка компании за 12-й месяц составила 38860'"
      ]
     },
     "execution_count": 11,
     "metadata": {},
     "output_type": "execute_result"
    }
   ],
   "source": [
    "get_result(date_cash, month)"
   ]
  }
 ],
 "metadata": {
  "kernelspec": {
   "display_name": "Python 3 (ipykernel)",
   "language": "python",
   "name": "python3"
  },
  "language_info": {
   "codemirror_mode": {
    "name": "ipython",
    "version": 3
   },
   "file_extension": ".py",
   "mimetype": "text/x-python",
   "name": "python",
   "nbconvert_exporter": "python",
   "pygments_lexer": "ipython3",
   "version": "3.9.13"
  }
 },
 "nbformat": 4,
 "nbformat_minor": 5
}
